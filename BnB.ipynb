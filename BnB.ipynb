{
 "metadata": {
  "language_info": {
   "codemirror_mode": {
    "name": "ipython",
    "version": 3
   },
   "file_extension": ".py",
   "mimetype": "text/x-python",
   "name": "python",
   "nbconvert_exporter": "python",
   "pygments_lexer": "ipython3",
   "version": "3.9.1"
  },
  "orig_nbformat": 2,
  "kernelspec": {
   "name": "python391jvsc74a57bd0098d024f08efb947bc83821b103df1d72048fb3f91c311d1a333c05eca801e1a",
   "display_name": "Python 3.9.1 64-bit"
  },
  "metadata": {
   "interpreter": {
    "hash": "098d024f08efb947bc83821b103df1d72048fb3f91c311d1a333c05eca801e1a"
   }
  }
 },
 "nbformat": 4,
 "nbformat_minor": 2,
 "cells": [
  {
   "cell_type": "code",
   "execution_count": 74,
   "metadata": {},
   "outputs": [],
   "source": [
    "import numpy as np\n",
    "from math import floor\n",
    "from scipy.optimize import minimize ## linprog"
   ]
  },
  {
   "cell_type": "code",
   "execution_count": 75,
   "metadata": {},
   "outputs": [],
   "source": [
    "def solution(fun, bounds, constraints):\n",
    "    x_0 = []\n",
    "    for i in range(len(bounds)):\n",
    "        x_0.append(1)\n",
    "    return minimize(fun, x_0, method='SLSQP', bounds = bounds, constraints = constraints)\n"
   ]
  },
  {
   "cell_type": "code",
   "execution_count": 76,
   "metadata": {},
   "outputs": [],
   "source": [
    "def add_bounds(bounds, b_start, b_end):\n",
    "    bound = [b_start, b_end]\n",
    "    bounds.append(bound)\n"
   ]
  },
  {
   "cell_type": "code",
   "execution_count": 77,
   "metadata": {},
   "outputs": [],
   "source": [
    "def add_constraints(constraints, type, constraint_function):\n",
    "    constraint = {'type': type, 'fun': constraint_function}\n",
    "    constraints.append(constraint) "
   ]
  },
  {
   "cell_type": "code",
   "execution_count": 78,
   "metadata": {},
   "outputs": [],
   "source": [
    "## Method to check if an array contains only integers\n",
    "\n",
    "def x_is_integer(x):\n",
    "    rem = 0\n",
    "    for i in x:\n",
    "        rem += i%1\n",
    "    return rem == 0"
   ]
  },
  {
   "cell_type": "code",
   "execution_count": 79,
   "metadata": {},
   "outputs": [],
   "source": [
    "## Method to find the index of an element with the largest decimal part in an array\n",
    "\n",
    "def get_largest_dec_index(x):\n",
    "    index = 0\n",
    "    temp = 0\n",
    "\n",
    "    for i in range(len(x)):\n",
    "        r = x[i]%1\n",
    "        if(r > temp):\n",
    "            temp = r\n",
    "            index = i\n",
    "    return index"
   ]
  },
  {
   "cell_type": "code",
   "execution_count": 80,
   "metadata": {},
   "outputs": [],
   "source": [
    "def round_array(x):\n",
    "    ret = []\n",
    "    for i in range(len(x)):\n",
    "        ret.append(round(x[i],2))\n",
    "    return ret"
   ]
  },
  {
   "cell_type": "code",
   "execution_count": 81,
   "metadata": {},
   "outputs": [],
   "source": [
    "def floor_array(x):\n",
    "    ret = []\n",
    "    for i in range(len(x)):\n",
    "        ret.append(floor(x[i]))\n",
    "    return ret"
   ]
  },
  {
   "cell_type": "code",
   "execution_count": 82,
   "metadata": {},
   "outputs": [],
   "source": [
    "## Method for solving maximization problems using branch and bound algorithm  \n",
    "\n",
    "def BnB(fun, bounds, constraints):\n",
    "    main_sol = solution(fun, bounds, constraints)\n",
    "    x = round_array(main_sol.x)\n",
    "    \n",
    "    if(x_is_integer(x)):                                        ## stoping condition\n",
    "        return {'x': x, 'solution': -fun(x)}                    ## an integer solution has been found\n",
    "    UB = -fun(x)\n",
    "    LB = -fun(floor_array(x))\n",
    "\n",
    "    index = get_largest_dec_index(x)\n",
    "    a = floor(x[index])\n",
    "    b = a + 1\n",
    "    \n",
    "    ## Left branch of the recursion tree\n",
    "    left_bounds = bounds.copy()\n",
    "    left_bounds[index] = [left_bounds[index][0], a]\n",
    "    sol1 = solution(fun, left_bounds, constraints)\n",
    "    res1 = round(-sol1.fun,2) if (sol1.success or x_is_integer(sol1.x)) and (-sol1.fun <=UB and -sol1.fun >= LB) else -float('inf')  ## if potental solution is infeasble asign -infinity to it\n",
    "\n",
    "    ## Right branch of the recursion tree\n",
    "    right_bounds = bounds.copy()\n",
    "    right_bounds[index] = [b, right_bounds[index][1]]\n",
    "    sol2 = solution(fun, right_bounds, constraints)\n",
    "    res2 = round(-sol2.fun,2) if (sol2.success or x_is_integer(sol2.x)) and (-sol2.fun <=UB and -sol2.fun >= LB) else -float('inf') ## if potental solution is infeasble asign -infinity to it\n",
    "\n",
    "\n",
    "    if(res1>res2):                                                  ## deside the direction of therecursion \n",
    "        a = BnB(fun,left_bounds,constraints)                        ## find solution \n",
    "        if a[\"solution\"] >= res2:                                   ## check if the soltion gives a greater result than the UB of other branch \n",
    "            return a                                                ## if yes return the solution \n",
    "        else:\n",
    "            b = BnB(fun,right_bounds,constraints)                   ## get the solution for the other branch \n",
    "            return b if a[\"solution\"] < b[\"solution\"] else a        ## return the maximum of two solutions \n",
    "\n",
    "    else:\n",
    "        b = BnB(fun,right_bounds,constraints)\n",
    "        if b[\"solution\"] >= res1:\n",
    "            return b\n",
    "        else:\n",
    "            a = BnB(fun,left_bounds,constraints)\n",
    "            return a if a[\"solution\"] > b[\"solution\"] else b"
   ]
  },
  {
   "cell_type": "code",
   "execution_count": 83,
   "metadata": {},
   "outputs": [],
   "source": [
    "## Example 1\n",
    "def f(x):\n",
    "    x1 = x[0]\n",
    "    x2 = x[1]\n",
    "\n",
    "    return -(100*x1+150*x2)         ## Maximize f(x) == Minimiz -f(x)"
   ]
  },
  {
   "cell_type": "code",
   "execution_count": 84,
   "metadata": {},
   "outputs": [],
   "source": [
    "def g1(x):\n",
    "    x1 = x[0]\n",
    "    x2 = x[1]\n",
    "\n",
    "    return -(8000*x1+4000*x2-40000)      ## Minus needed for minimization "
   ]
  },
  {
   "cell_type": "code",
   "execution_count": 85,
   "metadata": {},
   "outputs": [],
   "source": [
    "def g2(x):\n",
    "    x1 = x[0]\n",
    "    x2 = x[1]\n",
    "\n",
    "    return -(15*x1+30*x2-200  )          ## Minus needed for minimization "
   ]
  },
  {
   "cell_type": "code",
   "execution_count": 86,
   "metadata": {},
   "outputs": [
    {
     "output_type": "stream",
     "name": "stdout",
     "text": [
      "{'x': [1.0, 6.0], 'solution': 1000.0}\n"
     ]
    }
   ],
   "source": [
    "bounds = []\n",
    "\n",
    "add_bounds(bounds, 0, float('inf'))\n",
    "add_bounds(bounds, 0, float('inf'))\n",
    "\n",
    "constraints = []\n",
    "add_constraints(constraints, 'ineq', g1)\n",
    "add_constraints(constraints, 'ineq', g2)\n",
    "\n",
    "print(BnB(f,bounds, constraints))"
   ]
  },
  {
   "cell_type": "code",
   "execution_count": 87,
   "metadata": {},
   "outputs": [],
   "source": [
    "## Example 2\n",
    "\n",
    "def f1(x):\n",
    "    x1 = x[0]\n",
    "    x2 = x[1]\n",
    "    return -(17*x1+12*x2)"
   ]
  },
  {
   "cell_type": "code",
   "execution_count": 88,
   "metadata": {},
   "outputs": [],
   "source": [
    "def g1_1(x):\n",
    "    x1 = x[0]\n",
    "    x2 = x[1]\n",
    "\n",
    "    return -(10*x1+7*x2-40)"
   ]
  },
  {
   "cell_type": "code",
   "execution_count": 89,
   "metadata": {},
   "outputs": [],
   "source": [
    "def g1_2(x):\n",
    "    x1 = x[0]\n",
    "    x2 = x[1]\n",
    "\n",
    "    return -(x1+x2-5)\n"
   ]
  },
  {
   "cell_type": "code",
   "execution_count": 90,
   "metadata": {},
   "outputs": [
    {
     "output_type": "stream",
     "name": "stdout",
     "text": [
      "{'x': [4.0, 0.0], 'solution': 68.0}\n"
     ]
    }
   ],
   "source": [
    "bounds1 = []\n",
    "\n",
    "add_bounds(bounds1, 0, float('inf'))\n",
    "add_bounds(bounds1, 0, float('inf'))\n",
    "\n",
    "constraints1 = []\n",
    "add_constraints(constraints1, 'ineq', g1_1)\n",
    "add_constraints(constraints1, 'ineq', g1_2)\n",
    "\n",
    "print(BnB(f1,bounds1, constraints1))"
   ]
  },
  {
   "cell_type": "code",
   "execution_count": 91,
   "metadata": {},
   "outputs": [],
   "source": [
    "#Example 3 (TaylorB page 13)\n",
    "\n",
    "def f3(x):\n",
    "    x1 = x[0]\n",
    "    x2 = x[1]\n",
    "    x3 = x[2]\n",
    "    return -(5*x1+6*x2+4*x3)\n"
   ]
  },
  {
   "cell_type": "code",
   "execution_count": 92,
   "metadata": {},
   "outputs": [],
   "source": [
    "def g3_1(x):\n",
    "    x1 = x[0]\n",
    "    x2 = x[1]\n",
    "    x3 = x[2]\n",
    "    return -(5*x1+3*x2+6*x3-20)"
   ]
  },
  {
   "cell_type": "code",
   "execution_count": 93,
   "metadata": {},
   "outputs": [],
   "source": [
    "def g3_2(x):\n",
    "    x1 = x[0]\n",
    "    x2 = x[1]\n",
    "    return -(x1+3*x2-12)"
   ]
  },
  {
   "cell_type": "code",
   "execution_count": 94,
   "metadata": {},
   "outputs": [
    {
     "output_type": "stream",
     "name": "stdout",
     "text": [
      "{'x': [0.0, 4.0, 1.0], 'solution': 28.0}\n"
     ]
    }
   ],
   "source": [
    "bounds3 = []\n",
    "\n",
    "add_bounds(bounds3, 0, float('inf'))\n",
    "add_bounds(bounds3, 0, float('inf'))\n",
    "add_bounds(bounds3, 0, float('inf'))\n",
    "\n",
    "constraints3 = []\n",
    "add_constraints(constraints3, 'ineq', g3_1)\n",
    "add_constraints(constraints3, 'ineq', g3_2)\n",
    "\n",
    "\n",
    "print(BnB(f3,bounds3, constraints3))"
   ]
  },
  {
   "cell_type": "code",
   "execution_count": null,
   "metadata": {},
   "outputs": [],
   "source": []
  }
 ]
}