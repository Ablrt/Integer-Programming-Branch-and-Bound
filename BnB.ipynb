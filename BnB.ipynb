{
 "metadata": {
  "language_info": {
   "codemirror_mode": {
    "name": "ipython",
    "version": 3
   },
   "file_extension": ".py",
   "mimetype": "text/x-python",
   "name": "python",
   "nbconvert_exporter": "python",
   "pygments_lexer": "ipython3",
   "version": "3.9.1"
  },
  "orig_nbformat": 2,
  "kernelspec": {
   "name": "python391jvsc74a57bd0098d024f08efb947bc83821b103df1d72048fb3f91c311d1a333c05eca801e1a",
   "display_name": "Python 3.9.1 64-bit"
  },
  "metadata": {
   "interpreter": {
    "hash": "098d024f08efb947bc83821b103df1d72048fb3f91c311d1a333c05eca801e1a"
   }
  }
 },
 "nbformat": 4,
 "nbformat_minor": 2,
 "cells": [
  {
   "cell_type": "code",
   "execution_count": 1,
   "metadata": {},
   "outputs": [],
   "source": [
    "'''\n",
    "Version 1.0\n",
    "Doesn't check the other branch, but works for now\n",
    "Doesn't use custom minimize function \n",
    "Almost no comments\n",
    "\n",
    "'''\n",
    "import numpy as np\n",
    "from math import floor\n",
    "from scipy.optimize import minimize "
   ]
  },
  {
   "cell_type": "code",
   "execution_count": 2,
   "metadata": {},
   "outputs": [],
   "source": [
    "def f(x):\n",
    "    x1 = x[0]\n",
    "    x2 = x[1]\n",
    "\n",
    "    return -(100*x1+150*x2)         ## Maximize f(x) == Minimiz -f(x)"
   ]
  },
  {
   "cell_type": "code",
   "execution_count": 3,
   "metadata": {},
   "outputs": [],
   "source": [
    "def g1(x):\n",
    "    x1 = x[0]\n",
    "    x2 = x[1]\n",
    "\n",
    "    return -(8000*x1+4000*x2-40000)      ## Minus needed for minimization "
   ]
  },
  {
   "cell_type": "code",
   "execution_count": 4,
   "metadata": {},
   "outputs": [],
   "source": [
    "def g2(x):\n",
    "    x1 = x[0]\n",
    "    x2 = x[1]\n",
    "\n",
    "    return -(15*x1+30*x2-200  )          ## Minus needed for minimization "
   ]
  },
  {
   "cell_type": "code",
   "execution_count": 5,
   "metadata": {},
   "outputs": [],
   "source": [
    "def solution(fun, bounds, constraints):\n",
    "    x_0 = [1,1]         ##inital guess\n",
    "    return minimize(fun, x_0, method='SLSQP', bounds = bounds, constraints = constraints)\n"
   ]
  },
  {
   "cell_type": "code",
   "execution_count": 6,
   "metadata": {},
   "outputs": [],
   "source": [
    "def add_bounds(bounds, b_start, b_end):\n",
    "    bound = [b_start, b_end]\n",
    "    bounds.append(bound)\n"
   ]
  },
  {
   "cell_type": "code",
   "execution_count": 7,
   "metadata": {},
   "outputs": [],
   "source": [
    "def add_constraints(constraints, type, constraint_function):\n",
    "    constraint = {'type': type, 'fun': constraint_function}\n",
    "    constraints.append(constraint) "
   ]
  },
  {
   "cell_type": "code",
   "execution_count": 8,
   "metadata": {},
   "outputs": [],
   "source": [
    "def x_is_integer(x):\n",
    "    rem = 0\n",
    "    for i in x:\n",
    "        rem += i%1\n",
    "    return rem == 0"
   ]
  },
  {
   "cell_type": "code",
   "execution_count": 9,
   "metadata": {},
   "outputs": [],
   "source": [
    "def get_largest_dec_index(x):\n",
    "    index = 0\n",
    "    temp = 0\n",
    "\n",
    "    for i in range(len(x)):\n",
    "        r = x[i]%1\n",
    "        if(r > temp):\n",
    "            temp = r\n",
    "            index = i\n",
    "    return index"
   ]
  },
  {
   "cell_type": "code",
   "execution_count": 10,
   "metadata": {},
   "outputs": [],
   "source": [
    "def round_array(x):\n",
    "    ret = []\n",
    "    for i in range(len(x)):\n",
    "        ret.append(round(x[i],2))\n",
    "    return ret"
   ]
  },
  {
   "cell_type": "code",
   "execution_count": 11,
   "metadata": {},
   "outputs": [],
   "source": [
    "def floor_array(x):\n",
    "    ret = []\n",
    "    for i in range(len(x)):\n",
    "        ret.append(floor(x[i]))\n",
    "    return ret"
   ]
  },
  {
   "cell_type": "code",
   "execution_count": 12,
   "metadata": {},
   "outputs": [],
   "source": [
    "def BnB(fun, bounds, constraints):\n",
    "\n",
    "    print(bounds)\n",
    "\n",
    "    main_sol = solution(fun, bounds, constraints)\n",
    "    x = round_array(main_sol.x)\n",
    "    \n",
    "    if(x_is_integer(x)):\n",
    "        return {'x': x, 'solution': -fun(x)}\n",
    "    UB = -fun(x)\n",
    "    LB = -fun(floor_array(x))\n",
    "\n",
    "    index = get_largest_dec_index(x)\n",
    "    a = floor(x[index])\n",
    "    b = a + 1\n",
    "\n",
    "    left_bounds = bounds.copy()\n",
    "    left_bounds[index] = [left_bounds[index][0], a]\n",
    "    sol1 = solution(fun, left_bounds, constraints)\n",
    "    res1 = -sol1.fun if (sol1.success or x_is_integer(sol1.x)) and (-sol1.fun <=UB and -sol1.fun >= LB) else -float('inf')\n",
    "\n",
    "    right_bounds = bounds.copy()\n",
    "    right_bounds[index] = [b, right_bounds[index][1]]\n",
    "    sol2 = solution(fun, right_bounds, constraints)\n",
    "    res2 = -sol2.fun if sol2.success or x_is_integer(sol2.x) and (-sol2.fun <=UB and -sol2.fun >= LB) else -float('inf')\n",
    "\n",
    "    if(res1>res2):\n",
    "        return BnB(fun,left_bounds,constraints)\n",
    "    else:\n",
    "        return BnB(fun,right_bounds,constraints)"
   ]
  },
  {
   "cell_type": "code",
   "execution_count": 13,
   "metadata": {},
   "outputs": [
    {
     "output_type": "stream",
     "name": "stdout",
     "text": [
      "[[0, inf], [0, inf]]\n",
      "[2.22, 5.56]\n",
      "1000.0000000490367 1033.3333336397714\n",
      "\n",
      "[[0, inf], [6, inf]]\n",
      "[1.33, 6.0]\n",
      "1025.0000000033324 -inf\n",
      "\n",
      "[[0, 1], [6, inf]]\n",
      "[1.0, 6.17]\n",
      "1000.0 -inf\n",
      "\n",
      "[[0, 1], [6, 6]]\n",
      "[1.0, 6.0]\n",
      "{'x': [1.0, 6.0], 'solution': 1000.0}\n",
      "C:\\Users\\Albert\\AppData\\Local\\Programs\\Python\\Python39\\lib\\site-packages\\scipy\\optimize\\_numdiff.py:579: RuntimeWarning: invalid value encountered in true_divide\n",
      "  J_transposed[i] = df / dx\n"
     ]
    }
   ],
   "source": [
    "bounds = []\n",
    "\n",
    "add_bounds(bounds, 0, float('inf'))\n",
    "add_bounds(bounds, 0, float('inf'))\n",
    "'''\n",
    "add_bounds(bounds, 0, 1)\n",
    "add_bounds(bounds, 6, float('inf'))\n",
    "'''\n",
    "constraints = []\n",
    "add_constraints(constraints, 'ineq', g1)\n",
    "add_constraints(constraints, 'ineq', g2)\n",
    "\n",
    "#print(x_is_integer(solution(f, bounds, constraints).x))\n",
    "\n",
    "print(BnB(f,bounds, constraints))"
   ]
  },
  {
   "cell_type": "code",
   "execution_count": 14,
   "metadata": {},
   "outputs": [],
   "source": [
    "def f1(x):\n",
    "    x1 = x[0]\n",
    "    x2 = x[1]\n",
    "    return -(17*x1+12*x2)"
   ]
  },
  {
   "cell_type": "code",
   "execution_count": 15,
   "metadata": {},
   "outputs": [],
   "source": [
    "def g1_1(x):\n",
    "    x1 = x[0]\n",
    "    x2 = x[1]\n",
    "\n",
    "    return -(10*x1+7*x2-40)"
   ]
  },
  {
   "cell_type": "code",
   "execution_count": 16,
   "metadata": {},
   "outputs": [],
   "source": [
    "def g1_2(x):\n",
    "    x1 = x[0]\n",
    "    x2 = x[1]\n",
    "\n",
    "    return -(x1+x2-5)\n"
   ]
  },
  {
   "cell_type": "code",
   "execution_count": 17,
   "metadata": {},
   "outputs": [
    {
     "output_type": "stream",
     "name": "stdout",
     "text": [
      "[[4, inf], [0, 1]]\n[4.0, 0.0]\n{'x': [4.0, 0.0], 'solution': 68.0}\n"
     ]
    }
   ],
   "source": [
    "bounds1 = []\n",
    "'''\n",
    "add_bounds(bounds1, 0, float('inf'))\n",
    "add_bounds(bounds1, 0, float('inf'))\n",
    "'''\n",
    "add_bounds(bounds1, 4, float('inf'))\n",
    "add_bounds(bounds1, 0, 1)\n",
    "\n",
    "constraints1 = []\n",
    "add_constraints(constraints1, 'ineq', g1_1)\n",
    "add_constraints(constraints1, 'ineq', g1_2)\n",
    "\n",
    "#print(round_array(solution(f1, bounds1, constraints1).x))\n",
    "\n",
    "print(BnB(f1,bounds1, constraints1))"
   ]
  }
 ]
}
